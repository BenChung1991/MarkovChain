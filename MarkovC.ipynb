{
 "cells": [
  {
   "cell_type": "code",
   "execution_count": 1,
   "metadata": {},
   "outputs": [],
   "source": [
    "#馬可夫鏈是一種隨機過程，其特點是下一個狀態的概率僅取決於當前狀態，而與之前的狀態無關。這種特性稱為「無記憶性」或「馬可夫性質」。\n",
    "#讓我們用一個簡單的天氣預報模型來說明馬可夫鏈：\n",
    "#假設我們有三種天氣狀態：晴天、多雲和雨天。每種天氣轉變為其他天氣的概率如下：\n",
    "\n",
    "#晴天：下一天仍為晴天的概率為 0.7，變為多雲的概率為 0.2，變為雨天的概率為 0.1\n",
    "#多雲：變為晴天的概率為 0.4，仍為多雲的概率為 0.4，變為雨天的概率為 0.2\n",
    "#雨天：變為晴天的概率為 0.2，變為多雲的概率為 0.3，仍為雨天的概率為 0.5"
   ]
  },
  {
   "cell_type": "code",
   "execution_count": 2,
   "metadata": {},
   "outputs": [
    {
     "name": "stderr",
     "output_type": "stream",
     "text": [
      "/Users/zhongbingzhang/miniforge3/envs/tensorwork/lib/python3.10/site-packages/IPython/core/pylabtools.py:152: UserWarning: Glyph 20986 (\\N{CJK UNIFIED IDEOGRAPH-51FA}) missing from current font.\n",
      "  fig.canvas.print_figure(bytes_io, **kw)\n",
      "/Users/zhongbingzhang/miniforge3/envs/tensorwork/lib/python3.10/site-packages/IPython/core/pylabtools.py:152: UserWarning: Glyph 29694 (\\N{CJK UNIFIED IDEOGRAPH-73FE}) missing from current font.\n",
      "  fig.canvas.print_figure(bytes_io, **kw)\n",
      "/Users/zhongbingzhang/miniforge3/envs/tensorwork/lib/python3.10/site-packages/IPython/core/pylabtools.py:152: UserWarning: Glyph 27425 (\\N{CJK UNIFIED IDEOGRAPH-6B21}) missing from current font.\n",
      "  fig.canvas.print_figure(bytes_io, **kw)\n",
      "/Users/zhongbingzhang/miniforge3/envs/tensorwork/lib/python3.10/site-packages/IPython/core/pylabtools.py:152: UserWarning: Glyph 25976 (\\N{CJK UNIFIED IDEOGRAPH-6578}) missing from current font.\n",
      "  fig.canvas.print_figure(bytes_io, **kw)\n",
      "/Users/zhongbingzhang/miniforge3/envs/tensorwork/lib/python3.10/site-packages/IPython/core/pylabtools.py:152: UserWarning: Glyph 22825 (\\N{CJK UNIFIED IDEOGRAPH-5929}) missing from current font.\n",
      "  fig.canvas.print_figure(bytes_io, **kw)\n",
      "/Users/zhongbingzhang/miniforge3/envs/tensorwork/lib/python3.10/site-packages/IPython/core/pylabtools.py:152: UserWarning: Glyph 30340 (\\N{CJK UNIFIED IDEOGRAPH-7684}) missing from current font.\n",
      "  fig.canvas.print_figure(bytes_io, **kw)\n",
      "/Users/zhongbingzhang/miniforge3/envs/tensorwork/lib/python3.10/site-packages/IPython/core/pylabtools.py:152: UserWarning: Glyph 27683 (\\N{CJK UNIFIED IDEOGRAPH-6C23}) missing from current font.\n",
      "  fig.canvas.print_figure(bytes_io, **kw)\n",
      "/Users/zhongbingzhang/miniforge3/envs/tensorwork/lib/python3.10/site-packages/IPython/core/pylabtools.py:152: UserWarning: Glyph 27169 (\\N{CJK UNIFIED IDEOGRAPH-6A21}) missing from current font.\n",
      "  fig.canvas.print_figure(bytes_io, **kw)\n",
      "/Users/zhongbingzhang/miniforge3/envs/tensorwork/lib/python3.10/site-packages/IPython/core/pylabtools.py:152: UserWarning: Glyph 25836 (\\N{CJK UNIFIED IDEOGRAPH-64EC}) missing from current font.\n",
      "  fig.canvas.print_figure(bytes_io, **kw)\n",
      "/Users/zhongbingzhang/miniforge3/envs/tensorwork/lib/python3.10/site-packages/IPython/core/pylabtools.py:152: UserWarning: Glyph 32080 (\\N{CJK UNIFIED IDEOGRAPH-7D50}) missing from current font.\n",
      "  fig.canvas.print_figure(bytes_io, **kw)\n",
      "/Users/zhongbingzhang/miniforge3/envs/tensorwork/lib/python3.10/site-packages/IPython/core/pylabtools.py:152: UserWarning: Glyph 26524 (\\N{CJK UNIFIED IDEOGRAPH-679C}) missing from current font.\n",
      "  fig.canvas.print_figure(bytes_io, **kw)\n",
      "/Users/zhongbingzhang/miniforge3/envs/tensorwork/lib/python3.10/site-packages/IPython/core/pylabtools.py:152: UserWarning: Glyph 26228 (\\N{CJK UNIFIED IDEOGRAPH-6674}) missing from current font.\n",
      "  fig.canvas.print_figure(bytes_io, **kw)\n",
      "/Users/zhongbingzhang/miniforge3/envs/tensorwork/lib/python3.10/site-packages/IPython/core/pylabtools.py:152: UserWarning: Glyph 22810 (\\N{CJK UNIFIED IDEOGRAPH-591A}) missing from current font.\n",
      "  fig.canvas.print_figure(bytes_io, **kw)\n",
      "/Users/zhongbingzhang/miniforge3/envs/tensorwork/lib/python3.10/site-packages/IPython/core/pylabtools.py:152: UserWarning: Glyph 38642 (\\N{CJK UNIFIED IDEOGRAPH-96F2}) missing from current font.\n",
      "  fig.canvas.print_figure(bytes_io, **kw)\n",
      "/Users/zhongbingzhang/miniforge3/envs/tensorwork/lib/python3.10/site-packages/IPython/core/pylabtools.py:152: UserWarning: Glyph 38632 (\\N{CJK UNIFIED IDEOGRAPH-96E8}) missing from current font.\n",
      "  fig.canvas.print_figure(bytes_io, **kw)\n",
      "/Users/zhongbingzhang/miniforge3/envs/tensorwork/lib/python3.10/site-packages/IPython/core/pylabtools.py:152: UserWarning: Glyph 29376 (\\N{CJK UNIFIED IDEOGRAPH-72C0}) missing from current font.\n",
      "  fig.canvas.print_figure(bytes_io, **kw)\n",
      "/Users/zhongbingzhang/miniforge3/envs/tensorwork/lib/python3.10/site-packages/IPython/core/pylabtools.py:152: UserWarning: Glyph 24907 (\\N{CJK UNIFIED IDEOGRAPH-614B}) missing from current font.\n",
      "  fig.canvas.print_figure(bytes_io, **kw)\n"
     ]
    },
    {
     "data": {
      "image/png": "[encoded data removed]",
      "text/plain": [
       "<Figure size 1000x600 with 1 Axes>"
      ]
     },
     "metadata": {},
     "output_type": "display_data"
    },
    {
     "name": "stdout",
     "output_type": "stream",
     "text": [
      "模擬的天氣序列：\n",
      "晴天 -> 雨天 -> 雨天 -> 雨天 -> 多雲 -> 多雲 -> 晴天 -> 晴天 -> 多雲 -> 晴天 -> 晴天 -> 多雲 -> 多雲 -> 多雲 -> 晴天 -> 晴天 -> 晴天 -> 晴天 -> 多雲 -> 多雲 -> 多雲 -> 晴天 -> 晴天 -> 晴天 -> 晴天 -> 晴天 -> 多雲 -> 晴天 -> 晴天 -> 多雲\n"
     ]
    }
   ],
   "source": [
    "import numpy as np\n",
    "import matplotlib.pyplot as plt\n",
    "\n",
    "transition_matrix = np.array([\n",
    "    [0.7, 0.2, 0.1],  # 晴天\n",
    "    [0.4, 0.4, 0.2],  # 多雲\n",
    "    [0.2, 0.3, 0.5]   # 雨天\n",
    "])\n",
    "\n",
    "\n",
    "states = [\"晴天\", \"多雲\", \"雨天\"]\n",
    "\n",
    "\n",
    "def simulate_markov_chain(days, initial_state):\n",
    "    current_state = initial_state\n",
    "    states_history = [current_state]\n",
    "    \n",
    "    for _ in range(days - 1):\n",
    "        current_state = np.random.choice(3, p=transition_matrix[current_state])\n",
    "        states_history.append(current_state)\n",
    "    \n",
    "    return states_history\n",
    "\n",
    "\n",
    "days = 30\n",
    "initial_state = 0  # 從晴天開始\n",
    "simulation = simulate_markov_chain(days, initial_state)\n",
    "\n",
    "# 統計每種天氣的出現次數\n",
    "weather_counts = [simulation.count(i) for i in range(3)]\n",
    "\n",
    "\n",
    "plt.figure(figsize=(10, 6))\n",
    "plt.bar(states, weather_counts)\n",
    "plt.title(f\"{days} 天的天氣模擬結果\")\n",
    "plt.xlabel(\"天氣狀態\")\n",
    "plt.ylabel(\"出現次數\")\n",
    "plt.show()\n",
    "\n",
    "\n",
    "print(\"模擬的天氣序列：\")\n",
    "print(\" -> \".join([states[s] for s in simulation]))"
   ]
  },
  {
   "cell_type": "code",
   "execution_count": null,
   "metadata": {},
   "outputs": [],
   "source": []
  }
 ],
 "metadata": {
  "kernelspec": {
   "display_name": "tensorwork",
   "language": "python",
   "name": "python3"
  },
  "language_info": {
   "codemirror_mode": {
    "name": "ipython",
    "version": 3
   },
   "file_extension": ".py",
   "mimetype": "text/x-python",
   "name": "python",
   "nbconvert_exporter": "python",
   "pygments_lexer": "ipython3",
   "version": "3.10.6"
  }
 },
 "nbformat": 4,
 "nbformat_minor": 2
}
